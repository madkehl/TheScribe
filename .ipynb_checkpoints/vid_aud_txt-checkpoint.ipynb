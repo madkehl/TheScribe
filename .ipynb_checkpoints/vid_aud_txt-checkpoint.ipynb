{
 "cells": [
  {
   "cell_type": "code",
   "execution_count": 73,
   "metadata": {},
   "outputs": [],
   "source": [
    "#https://towardsdatascience.com/extracting-speech-from-video-using-python-f0ec7e312d38\n",
    "#https://stackoverflow.com/questions/37999150/how-to-split-a-wav-file-into-multiple-wav-files\n",
    "import speech_recognition as sr \n",
    "import moviepy.editor as mp\n",
    "from pydub import AudioSegment\n",
    "import math\n",
    "import os\n",
    "import shutil\n",
    "import time\n",
    "import urllib.request"
   ]
  },
  {
   "cell_type": "code",
   "execution_count": 66,
   "metadata": {},
   "outputs": [],
   "source": [
    "class SplitWavAudioMubin():\n",
    "    def __init__(self, folder, filename):\n",
    "        self.folder = folder\n",
    "        self.filename = filename\n",
    "        self.filepath = folder + '/' + filename\n",
    "        \n",
    "        self.audio = AudioSegment.from_wav(self.filepath)\n",
    "    \n",
    "    def get_duration(self):\n",
    "        return self.audio.duration_seconds\n",
    "    \n",
    "    def single_split(self, from_min, to_min, split_filename):\n",
    "        t1 = from_min * 60 * 1000\n",
    "        t2 = to_min * 60 * 1000\n",
    "        split_audio = self.audio[t1:t2]\n",
    "        split_audio.export(self.folder + '/' + split_filename, format=\"wav\")\n",
    "        \n",
    "    def multiple_split(self, min_per_split):\n",
    "        total_mins = math.ceil(self.get_duration() / 60)\n",
    "        for i in range(0, total_mins, min_per_split):\n",
    "            split_fn = str(i) + '_' + self.filename\n",
    "            self.single_split(i, i+min_per_split, split_fn)\n",
    "            print(str(i) + ' Done')\n",
    "            if i == total_mins - min_per_split:\n",
    "                print('All split successfully')\n",
    "                return i"
   ]
  },
  {
   "cell_type": "code",
   "execution_count": 102,
   "metadata": {},
   "outputs": [],
   "source": [
    "def aud_to_text():\n",
    "    path = './trial/trial.wav'\n",
    "    r = sr.Recognizer()\n",
    "    audio = sr.AudioFile(path)\n",
    "    with audio as source:\n",
    "        audio_file = r.record(source)\n",
    "    result = r.recognize_google(audio_file, language='en-US', show_all=True)\n",
    "    if len(result) > 0:\n",
    "        print(result['alternative'][0])\n",
    "        return(result['alternative'][0]['transcript'])\n",
    "\n",
    "def aud_to_text_ls(count):\n",
    "    sub_files = range(count + 1)\n",
    "\n",
    "    full_transcript = \"\"\n",
    "    for i in sub_files:\n",
    "        path = './trial/' + str(i) + '_trial.wav'\n",
    "        result = aud_to_text()\n",
    "        full_transcript = full_transcript + result + ' '\n",
    "    #trying to throw the api off\n",
    "        time.sleep(10)\n",
    "        \n",
    "    return full_transcript\n",
    "\n",
    "def full_path_to_txt(movie_path, file_name, split = True):\n",
    "    \n",
    "    clip = mp.VideoFileClip(movie_path) \n",
    "    current_vid = file_name\n",
    "    os.mkdir('./trial')\n",
    "    clip.audio.write_audiofile(r'./trial/trial.wav')\n",
    "    \n",
    "    folder = './trial'\n",
    "    file = 'trial.wav'\n",
    "    \n",
    "    if split == True:\n",
    "        split_wav = SplitWavAudioMubin(folder, file)\n",
    "        count = split_wav.multiple_split(min_per_split=1)\n",
    "        full_transcript = aud_to_text_ls(count)\n",
    "    else:\n",
    "        full_transcript = aud_to_text()\n",
    "        \n",
    "    shutil.rmtree(folder)\n",
    "    text_file = open(current_vid, \"w\")\n",
    "    text_file.write(full_transcript)\n",
    "    text_file.close()"
   ]
  },
  {
   "cell_type": "code",
   "execution_count": 99,
   "metadata": {},
   "outputs": [
    {
     "data": {
      "text/plain": [
       "('val_and_upload4.mp4', <http.client.HTTPMessage at 0x7f9564687a30>)"
      ]
     },
     "execution_count": 99,
     "metadata": {},
     "output_type": "execute_result"
    }
   ],
   "source": [
    "#url_link = 'https://s3.amazonaws.com/data-archive.nimh.nih.gov/Documents/Tutorials/Training/1_Introduction.mp4'\n",
    "#url_link = 'https://s3.amazonaws.com/data-archive.nimh.nih.gov/Documents/Tutorials/Training/2_Getting_Started.mp4'\n",
    "#url_link = 'https://s3.amazonaws.com/data-archive.nimh.nih.gov/Documents/Tutorials/Training/3_Validate_Data.mp4'\n",
    "#url_link = 'https://s3.amazonaws.com/data-archive.nimh.nih.gov/Documents/Tutorials/Training/4_Custom_Scope.mp4'\n",
    "#url_link = \"https://s3.amazonaws.com/data-archive.nimh.nih.gov/Documents/Tutorials/Training/5_Correcting_Errors.mp4\"\n",
    "urllib.request.urlretrieve(url_link, 'val_and_upload4.mp4') "
   ]
  },
  {
   "cell_type": "code",
   "execution_count": 100,
   "metadata": {},
   "outputs": [],
   "source": [
    "#movie_path = r'2351285129819900164.mp4'\n",
    "#movie_path = r'5433273397410606852.mp4'\n",
    "#movie_path = r'2366109844211546884.mp4'\n",
    "#movie_path = r'4047124581474259204.mp4'\n",
    "movie_path = r'val_and_upload5.mp4'\n",
    "current_vid = 'val_and_upload5.txt'"
   ]
  },
  {
   "cell_type": "code",
   "execution_count": 103,
   "metadata": {},
   "outputs": [
    {
     "name": "stderr",
     "output_type": "stream",
     "text": [
      "chunk:  19%|█▊        | 357/1919 [00:00<00:00, 3552.85it/s, now=None]"
     ]
    },
    {
     "name": "stdout",
     "output_type": "stream",
     "text": [
      "MoviePy - Writing audio in ./trial/trial.wav\n"
     ]
    },
    {
     "name": "stderr",
     "output_type": "stream",
     "text": [
      "                                                                      \r"
     ]
    },
    {
     "name": "stdout",
     "output_type": "stream",
     "text": [
      "MoviePy - Done.\n",
      "0 Done\n",
      "1 Done\n",
      "All split successfully\n",
      "{'transcript': 'correcting errors when validating a file you will see a list of Errors detected which can be filtered and sorted double-click on the file name that shows errors and a detailed list will show up only the errors must be resolved to upload data the left-most column displays the record number of the air which Begins Counting on Row three of your file when the data Begins the column name indicates the offending element the message column shows more information about the issue using this information you can determine the best way to resolve the air then located in the file and correct it you can then revalidate using the option on the right of the file table the validation and upload to also notify you of warnings warnings are merely informational and regard best practices and recommended steps you can take to avoid potential errors in your data if you do not wish to comply with them they can be safely ignored files with active warnings can still be uploaded to book a warnings include recommended Fields without values in your file or optional columns that may have been deleted if there are too many errors to see in the browser you will see them if you click the export all errors warning box', 'confidence': 0.72687894}\n"
     ]
    },
    {
     "ename": "TypeError",
     "evalue": "string indices must be integers",
     "output_type": "error",
     "traceback": [
      "\u001b[0;31m---------------------------------------------------------------------------\u001b[0m",
      "\u001b[0;31mTypeError\u001b[0m                                 Traceback (most recent call last)",
      "\u001b[0;32m<ipython-input-103-1ba9760dfe97>\u001b[0m in \u001b[0;36m<module>\u001b[0;34m\u001b[0m\n\u001b[0;32m----> 1\u001b[0;31m \u001b[0mfull_path_to_txt\u001b[0m\u001b[0;34m(\u001b[0m\u001b[0mmovie_path\u001b[0m\u001b[0;34m,\u001b[0m \u001b[0mcurrent_vid\u001b[0m\u001b[0;34m,\u001b[0m \u001b[0msplit\u001b[0m \u001b[0;34m=\u001b[0m \u001b[0;32mTrue\u001b[0m\u001b[0;34m)\u001b[0m\u001b[0;34m\u001b[0m\u001b[0;34m\u001b[0m\u001b[0m\n\u001b[0m",
      "\u001b[0;32m<ipython-input-102-5f88a2dd01e2>\u001b[0m in \u001b[0;36mfull_path_to_txt\u001b[0;34m(movie_path, file_name, split)\u001b[0m\n\u001b[1;32m     37\u001b[0m         \u001b[0msplit_wav\u001b[0m \u001b[0;34m=\u001b[0m \u001b[0mSplitWavAudioMubin\u001b[0m\u001b[0;34m(\u001b[0m\u001b[0mfolder\u001b[0m\u001b[0;34m,\u001b[0m \u001b[0mfile\u001b[0m\u001b[0;34m)\u001b[0m\u001b[0;34m\u001b[0m\u001b[0;34m\u001b[0m\u001b[0m\n\u001b[1;32m     38\u001b[0m         \u001b[0mcount\u001b[0m \u001b[0;34m=\u001b[0m \u001b[0msplit_wav\u001b[0m\u001b[0;34m.\u001b[0m\u001b[0mmultiple_split\u001b[0m\u001b[0;34m(\u001b[0m\u001b[0mmin_per_split\u001b[0m\u001b[0;34m=\u001b[0m\u001b[0;36m1\u001b[0m\u001b[0;34m)\u001b[0m\u001b[0;34m\u001b[0m\u001b[0;34m\u001b[0m\u001b[0m\n\u001b[0;32m---> 39\u001b[0;31m         \u001b[0mfull_transcript\u001b[0m \u001b[0;34m=\u001b[0m \u001b[0maud_to_text_ls\u001b[0m\u001b[0;34m(\u001b[0m\u001b[0mcount\u001b[0m\u001b[0;34m)\u001b[0m\u001b[0;34m\u001b[0m\u001b[0;34m\u001b[0m\u001b[0m\n\u001b[0m\u001b[1;32m     40\u001b[0m     \u001b[0;32melse\u001b[0m\u001b[0;34m:\u001b[0m\u001b[0;34m\u001b[0m\u001b[0;34m\u001b[0m\u001b[0m\n\u001b[1;32m     41\u001b[0m         \u001b[0mfull_transcript\u001b[0m \u001b[0;34m=\u001b[0m \u001b[0maud_to_text\u001b[0m\u001b[0;34m(\u001b[0m\u001b[0;34m)\u001b[0m\u001b[0;34m\u001b[0m\u001b[0;34m\u001b[0m\u001b[0m\n",
      "\u001b[0;32m<ipython-input-102-5f88a2dd01e2>\u001b[0m in \u001b[0;36maud_to_text_ls\u001b[0;34m(count)\u001b[0m\n\u001b[1;32m     18\u001b[0m         \u001b[0mresult\u001b[0m \u001b[0;34m=\u001b[0m \u001b[0maud_to_text\u001b[0m\u001b[0;34m(\u001b[0m\u001b[0;34m)\u001b[0m\u001b[0;34m\u001b[0m\u001b[0;34m\u001b[0m\u001b[0m\n\u001b[1;32m     19\u001b[0m \u001b[0;34m\u001b[0m\u001b[0m\n\u001b[0;32m---> 20\u001b[0;31m         \u001b[0mfull_transcript\u001b[0m \u001b[0;34m=\u001b[0m \u001b[0mfull_transcript\u001b[0m \u001b[0;34m+\u001b[0m \u001b[0mresult\u001b[0m\u001b[0;34m[\u001b[0m\u001b[0;34m'alternative'\u001b[0m\u001b[0;34m]\u001b[0m\u001b[0;34m[\u001b[0m\u001b[0;36m0\u001b[0m\u001b[0;34m]\u001b[0m\u001b[0;34m[\u001b[0m\u001b[0;34m'transcript'\u001b[0m\u001b[0;34m]\u001b[0m \u001b[0;34m+\u001b[0m \u001b[0;34m' '\u001b[0m\u001b[0;34m\u001b[0m\u001b[0;34m\u001b[0m\u001b[0m\n\u001b[0m\u001b[1;32m     21\u001b[0m     \u001b[0;31m#trying to throw the api off\u001b[0m\u001b[0;34m\u001b[0m\u001b[0;34m\u001b[0m\u001b[0;34m\u001b[0m\u001b[0m\n\u001b[1;32m     22\u001b[0m         \u001b[0mtime\u001b[0m\u001b[0;34m.\u001b[0m\u001b[0msleep\u001b[0m\u001b[0;34m(\u001b[0m\u001b[0;36m10\u001b[0m\u001b[0;34m)\u001b[0m\u001b[0;34m\u001b[0m\u001b[0;34m\u001b[0m\u001b[0m\n",
      "\u001b[0;31mTypeError\u001b[0m: string indices must be integers"
     ]
    }
   ],
   "source": [
    "full_path_to_txt(movie_path, current_vid, split = True)"
   ]
  },
  {
   "cell_type": "code",
   "execution_count": null,
   "metadata": {},
   "outputs": [],
   "source": []
  }
 ],
 "metadata": {
  "kernelspec": {
   "display_name": "Python 3",
   "language": "python",
   "name": "python3"
  },
  "language_info": {
   "codemirror_mode": {
    "name": "ipython",
    "version": 3
   },
   "file_extension": ".py",
   "mimetype": "text/x-python",
   "name": "python",
   "nbconvert_exporter": "python",
   "pygments_lexer": "ipython3",
   "version": "3.8.3"
  }
 },
 "nbformat": 4,
 "nbformat_minor": 4
}
